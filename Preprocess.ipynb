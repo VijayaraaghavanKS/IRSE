{
 "cells": [
  {
   "cell_type": "code",
   "execution_count": 26,
   "id": "17f25a96",
   "metadata": {},
   "outputs": [
    {
     "name": "stdout",
     "output_type": "stream",
     "text": [
      "       Comments                           Surrounding Code Context       Class\n",
      "0  /*test 529*/  -10.   int res = 0;\\n-9.   CURL *curl = NULL;\\...  Not Useful\n",
      "1  /*test 525*/  -2.     fprintf(stderr, \"Usage: lib529 [url] [...  Not Useful\n",
      "2      /*done*/  -10.   multi_add_handle(m, curl);\\n-9.   for(;...  Not Useful\n",
      "3  /*test 529*/  -10.   int res = 0;\\n-9.   CURL *curl = NULL;\\...  Not Useful\n",
      "4  /*test 525*/  -2.     fprintf(stderr, \"Usage: lib529 [url] [...  Not Useful\n",
      "\n",
      "\n",
      "(11452, 3)\n",
      "\n",
      "\n",
      "<class 'pandas.core.frame.DataFrame'>\n",
      "RangeIndex: 11452 entries, 0 to 11451\n",
      "Data columns (total 3 columns):\n",
      " #   Column                    Non-Null Count  Dtype \n",
      "---  ------                    --------------  ----- \n",
      " 0   Comments                  11452 non-null  object\n",
      " 1   Surrounding Code Context  11452 non-null  object\n",
      " 2   Class                     11452 non-null  object\n",
      "dtypes: object(3)\n",
      "memory usage: 268.5+ KB\n",
      "None\n"
     ]
    }
   ],
   "source": [
    "import pandas as pd\n",
    "\n",
    "df= pd.read_csv(\"Code_Comment_Seed_Data.csv\")\n",
    "print(df.head())\n",
    "print(\"\\n\")\n",
    "print(df.shape)\n",
    "print(\"\\n\")\n",
    "print(df.info())"
   ]
  },
  {
   "cell_type": "code",
   "execution_count": 27,
   "id": "8e1689e1",
   "metadata": {},
   "outputs": [
    {
     "name": "stdout",
     "output_type": "stream",
     "text": [
      "Comments                    0\n",
      "Surrounding Code Context    0\n",
      "Class                       0\n",
      "dtype: int64\n"
     ]
    }
   ],
   "source": [
    "print(df.isna().sum())"
   ]
  },
  {
   "cell_type": "code",
   "execution_count": 28,
   "id": "0b523b09",
   "metadata": {},
   "outputs": [
    {
     "name": "stdout",
     "output_type": "stream",
     "text": [
      "\n",
      "Total number of duplicate rows (all columns): 5098\n",
      "(11452, 3)\n"
     ]
    }
   ],
   "source": [
    "total_duplicates = df.duplicated(keep=False).sum()\n",
    "print(f\"\\nTotal number of duplicate rows (all columns): {total_duplicates}\")\n",
    "print(df.shape)"
   ]
  },
  {
   "cell_type": "code",
   "execution_count": 29,
   "id": "debd6ec5",
   "metadata": {},
   "outputs": [
    {
     "name": "stdout",
     "output_type": "stream",
     "text": [
      "\n",
      "Duplicate rows and their counts (all columns):\n",
      "                                               Comments  \\\n",
      "0     /*\\nBivariate Cubic Spline Approximation using...   \n",
      "1     /*\\nDelaunay Triangulation Linear Interpolatio...   \n",
      "2     /*\\nFor the initial set of points, just displa...   \n",
      "3     /*\\nNatural Neighbors using Pavel Sakov's nn p...   \n",
      "4     /*! @file\\n!\\n! Point-, symbol-, and string-pl...   \n",
      "...                                                 ...   \n",
      "1967                                    /*x_source_fe*/   \n",
      "1968                                    /*x_source_fe*/   \n",
      "1969                                     /*yepp, done*/   \n",
      "1970                                  /*|| !string[i]*/   \n",
      "1971                                             /*})*/   \n",
      "\n",
      "                               Surrounding Code Context       Class  count  \n",
      "0     \\n// plgridd.c: Plot grids data from irregular...      Useful      2  \n",
      "1     \\n// plgridd.c: Plot grids data from irregular...      Useful      2  \n",
      "2     \\n//! @file\\n\\n\\n /*\\nFor the initial set of p...      Useful      2  \n",
      "3     \\n// plgridd.c: Plot grids data from irregular...      Useful      2  \n",
      "4     -10. //\\n-9. // PLplot is distributed in the h...      Useful      2  \n",
      "...                                                 ...         ...    ...  \n",
      "1967  -4. }\\n-3. template <>\\n-2. void\\n-1. FE_Q_Hie...  Not Useful      2  \n",
      "1968  -8.         return FiniteElementDomination::no...  Not Useful      2  \n",
      "1969  -2.         free (ppbRowPointers);\\n-1.       ...  Not Useful      2  \n",
      "1970  -10. tilde_find_suffix (string)\\n-9.      cons...  Not Useful      3  \n",
      "1971  -5. int rl_completion_query_items = 100;\\n-4. ...  Not Useful      2  \n",
      "\n",
      "[1972 rows x 4 columns]\n"
     ]
    }
   ],
   "source": [
    "# Get duplicate rows and their counts (all columns)\n",
    "duplicate_counts = df[df.duplicated(keep=False)].groupby(df.columns.tolist()).size().reset_index(name='count')\n",
    "print(\"\\nDuplicate rows and their counts (all columns):\")\n",
    "print(duplicate_counts)"
   ]
  },
  {
   "cell_type": "code",
   "execution_count": 54,
   "id": "59dd9134",
   "metadata": {},
   "outputs": [
    {
     "name": "stdout",
     "output_type": "stream",
     "text": [
      "\n",
      "Shape after removing duplicates (all columns): (8326, 11)\n",
      "                                                Comments  \\\n",
      "0                                           /*test 529*/   \n",
      "1                                           /*test 525*/   \n",
      "2                                               /*done*/   \n",
      "5      /*argv1 = URL\\n * argv2 = proxy\\n * argv3 = no...   \n",
      "6                                             /*unused*/   \n",
      "...                                                  ...   \n",
      "11447  /*The following document where the background ...   \n",
      "11448  /*Do all the *safe* initialization - 'safe' me...   \n",
      "11449  /*And set the rest of the structure to NULL to...   \n",
      "11450  /*Use png_ptr here, not info_ptr, because by e...   \n",
      "11451  /*Is the given gamma significantly different f...   \n",
      "\n",
      "                                Surrounding Code Context       Class  \\\n",
      "0      -10.   int res = 0;\\n-9.   CURL *curl = NULL;\\...  Not Useful   \n",
      "1      -2.     fprintf(stderr, \"Usage: lib529 [url] [...  Not Useful   \n",
      "2      -10.   multi_add_handle(m, curl);\\n-9.   for(;...  Not Useful   \n",
      "5                                                 #NAME?  Not Useful   \n",
      "6      -5. #define RUN_FOR_SECONDS 7\\n-4. static pthr...  Not Useful   \n",
      "...                                                  ...         ...   \n",
      "11447  -5. #define PNG_CMAP_NONE      0\\n\\n /*The fol...      Useful   \n",
      "11448  -1. } png_image_read_control;\\n/* Do all the *...      Useful   \n",
      "11449  -10.  * called from here must *not* call png_m...      Useful   \n",
      "11450  -8. static png_uint_32\\n-7. png_image_format(p...      Useful   \n",
      "11451  -10.     * is unclear.\\n-9.     */\\n-8.    els...      Useful   \n",
      "\n",
      "       has_special_chars_comment  has_special_chars_code  comment_length  \\\n",
      "0                          False                   False               2   \n",
      "1                          False                   False               2   \n",
      "2                          False                   False               1   \n",
      "5                          False                   False               9   \n",
      "6                          False                   False               1   \n",
      "...                          ...                     ...             ...   \n",
      "11447                      False                   False               5   \n",
      "11448                      False                   False              24   \n",
      "11449                      False                   False               8   \n",
      "11450                      False                   False              19   \n",
      "11451                      False                   False              23   \n",
      "\n",
      "       code_snippet_length  has_leakage  \\\n",
      "0                       41        False   \n",
      "1                       30        False   \n",
      "2                       33        False   \n",
      "5                        1        False   \n",
      "6                       23        False   \n",
      "...                    ...          ...   \n",
      "11447                   29        False   \n",
      "11448                   44        False   \n",
      "11449                   42        False   \n",
      "11450                   29        False   \n",
      "11451                   30        False   \n",
      "\n",
      "                                           clean_comment  \\\n",
      "0                                               test 529   \n",
      "1                                               test 525   \n",
      "2                                                   done   \n",
      "5      argv1 url argv2 proxy argv3 nonzero means asci...   \n",
      "6                                                 unused   \n",
      "...                                                  ...   \n",
      "11447      following document background processing case   \n",
      "11448  safe initialization safe means pngerror wont c...   \n",
      "11449  set rest structure null ensure various fields ...   \n",
      "11450  use pngptr infoptr examination pnghandletrns s...   \n",
      "11451  given gamma significantly different srgb test ...   \n",
      "\n",
      "                                      clean_code_snippet  \\\n",
      "0      -10. int res = 0; -9. curl *curl = null; -8. f...   \n",
      "1      -2. fprintf(stderr, \"usage: lib529 [url] [uplo...   \n",
      "2      -10. multi_add_handle(m, curl); -9. for(;;) { ...   \n",
      "5                                                 #name?   \n",
      "6      -5. #define run_for_seconds 7 -4. static pthre...   \n",
      "...                                                  ...   \n",
      "11447  -5. #define png_cmap_none 0 /*the following do...   \n",
      "11448  -1. } png_image_read_control; /* do all the *s...   \n",
      "11449  -10. * called from here must *not* call png_ma...   \n",
      "11450  -8. static png_uint_32 -7. png_image_format(pn...   \n",
      "11451  -10. * is unclear. -9. */ -8. else if (png_ptr...   \n",
      "\n",
      "       is_low_quality_comment  \n",
      "0                       False  \n",
      "1                       False  \n",
      "2                        True  \n",
      "5                       False  \n",
      "6                       False  \n",
      "...                       ...  \n",
      "11447                   False  \n",
      "11448                   False  \n",
      "11449                   False  \n",
      "11450                   False  \n",
      "11451                   False  \n",
      "\n",
      "[8326 rows x 11 columns]\n"
     ]
    }
   ],
   "source": [
    "df_no_duplicates = df.drop_duplicates(keep='first')\n",
    "print(\"\\nShape after removing duplicates (all columns):\", df_no_duplicates.shape)\n",
    "print(df_no_duplicates)\n",
    "df_no_duplicates.to_csv('cleaned_no_duplicates.csv', index=False)"
   ]
  },
  {
   "cell_type": "code",
   "execution_count": 32,
   "id": "85ed27bc",
   "metadata": {},
   "outputs": [
    {
     "name": "stdout",
     "output_type": "stream",
     "text": [
      "Unique labels: ['Not Useful' 'Useful']\n",
      "Label counts:\n",
      " Useful        7063\n",
      "Not Useful    4389\n",
      "Name: Class, dtype: int64\n"
     ]
    }
   ],
   "source": [
    "\n",
    "print(\"Unique labels:\", df['Class'].unique())\n",
    "print(\"Label counts:\\n\", df['Class'].value_counts())"
   ]
  },
  {
   "cell_type": "code",
   "execution_count": 40,
   "id": "f684dcca",
   "metadata": {},
   "outputs": [
    {
     "name": "stdout",
     "output_type": "stream",
     "text": [
      "Comments with length < 5: Empty DataFrame\n",
      "Columns: [Comments, Class]\n",
      "Index: []\n",
      "Code snippets with length < 5: Empty DataFrame\n",
      "Columns: [Surrounding Code Context, Class]\n",
      "Index: []\n",
      "(11452, 7)\n"
     ]
    }
   ],
   "source": [
    "# Check for empty or short strings\n",
    "df['comment_length'] = df['Comments'].str.len()\n",
    "df['code_snippet_length'] = df['Surrounding Code Context'].str.len()\n",
    "print(\"Comments with length < 5:\", df[df['comment_length'] < 5][['Comments', 'Class']])\n",
    "print(\"Code snippets with length < 5:\", df[df['code_snippet_length'] < 5][['Surrounding Code Context', 'Class']])\n",
    "df = df[df['comment_length'] >= 5]\n",
    "df = df[df['code_snippet_length'] >= 5]\n",
    "print(df.shape)"
   ]
  },
  {
   "cell_type": "code",
   "execution_count": 41,
   "id": "cb6b7dd6",
   "metadata": {},
   "outputs": [
    {
     "name": "stdout",
     "output_type": "stream",
     "text": [
      "Rows with special characters in comments: 0\n",
      "Rows with special characters in code: 0\n"
     ]
    }
   ],
   "source": [
    "import re\n",
    "def check_special_chars(text):\n",
    "    return bool(re.search(r'[^\\x00-\\x7F]', str(text)))  # Detect non-ASCII characters\n",
    "df['has_special_chars_comment'] = df['Comments'].apply(check_special_chars)\n",
    "df['has_special_chars_code'] = df['Surrounding Code Context'].apply(check_special_chars)\n",
    "print(\"Rows with special characters in comments:\", df[df['has_special_chars_comment']].shape[0])\n",
    "print(\"Rows with special characters in code:\", df[df['has_special_chars_code']].shape[0])"
   ]
  },
  {
   "cell_type": "code",
   "execution_count": 44,
   "id": "03fb449c",
   "metadata": {},
   "outputs": [
    {
     "name": "stdout",
     "output_type": "stream",
     "text": [
      "Class distribution:\n",
      " Useful        0.616748\n",
      "Not Useful    0.383252\n",
      "Name: Class, dtype: float64\n",
      "Class distribution:\n",
      " Useful        0.64785\n",
      "Not Useful    0.35215\n",
      "Name: Class, dtype: float64\n"
     ]
    }
   ],
   "source": [
    "print(\"Class distribution:\\n\", df['Class'].value_counts(normalize=True))\n",
    "df_no_duplicates = df.drop_duplicates(keep='first')\n",
    "print(\"Class distribution:\\n\", df_no_duplicates['Class'].value_counts(normalize=True))"
   ]
  },
  {
   "cell_type": "code",
   "execution_count": 51,
   "id": "a4335320",
   "metadata": {},
   "outputs": [
    {
     "name": "stdout",
     "output_type": "stream",
     "text": [
      "Low-quality comments: 430\n"
     ]
    }
   ],
   "source": [
    "# Flag very short or repetitive comments\n",
    "df['is_low_quality_comment'] = df['Comments'].str.strip().str.len() < 10  # Adjust threshold\n",
    "print(\"Low-quality comments:\", df[df['is_low_quality_comment']].shape[0])"
   ]
  },
  {
   "cell_type": "code",
   "execution_count": 48,
   "id": "e209bebc",
   "metadata": {},
   "outputs": [
    {
     "name": "stderr",
     "output_type": "stream",
     "text": [
      "[nltk_data] Downloading package stopwords to\n",
      "[nltk_data]     C:\\Users\\sunda\\AppData\\Roaming\\nltk_data...\n",
      "[nltk_data]   Package stopwords is already up-to-date!\n"
     ]
    }
   ],
   "source": [
    "import re\n",
    "from nltk.corpus import stopwords\n",
    "import nltk\n",
    "nltk.download('stopwords')\n",
    "stop_words = set(stopwords.words('english'))\n",
    "\n",
    "def clean_text(text, is_code=False):\n",
    "    if not isinstance(text, str):\n",
    "        return ''\n",
    "    text = text.lower()  # Lowercase\n",
    "    text = re.sub(r'\\s+', ' ', text.strip())  # Normalize whitespace\n",
    "    if not is_code:  # Skip for code to preserve structure\n",
    "        text = re.sub(r'[^a-zA-Z0-9\\s]', '', text)  # Remove punctuation\n",
    "        text = ' '.join(word for word in text.split() if word not in stop_words)  # Remove stopwords\n",
    "    return text\n",
    "\n",
    "df['clean_comment'] = df['Comments'].apply(clean_text)\n",
    "df['clean_code_snippet'] = df['Surrounding Code Context'].apply(lambda x: clean_text(x, is_code=True))"
   ]
  },
  {
   "cell_type": "code",
   "execution_count": 49,
   "id": "ec88e724",
   "metadata": {},
   "outputs": [
    {
     "name": "stdout",
     "output_type": "stream",
     "text": [
      "Comment length stats:\n",
      " count    11452.000000\n",
      "mean         7.601467\n",
      "std         13.083387\n",
      "min          0.000000\n",
      "25%          2.000000\n",
      "50%          4.000000\n",
      "75%          8.000000\n",
      "max        316.000000\n",
      "Name: comment_length, dtype: float64\n",
      "Code snippet length stats:\n",
      " count    11452.000000\n",
      "mean        31.674817\n",
      "std         16.440361\n",
      "min          1.000000\n",
      "25%         24.000000\n",
      "50%         31.000000\n",
      "75%         38.000000\n",
      "max        482.000000\n",
      "Name: code_snippet_length, dtype: float64\n",
      "Comment outliers (>95th percentile): 522\n",
      "Code snippet outliers (>95th percentile): 490\n"
     ]
    }
   ],
   "source": [
    "df['comment_length'] = df['clean_comment'].str.split().str.len()  # Word count\n",
    "df['code_snippet_length'] = df['clean_code_snippet'].str.split().str.len()\n",
    "print(\"Comment length stats:\\n\", df['comment_length'].describe())\n",
    "print(\"Code snippet length stats:\\n\", df['code_snippet_length'].describe())\n",
    "\n",
    "# Flag outliers (e.g., beyond 95th percentile)\n",
    "comment_outlier_threshold = df['comment_length'].quantile(0.95)\n",
    "code_outlier_threshold = df['code_snippet_length'].quantile(0.95)\n",
    "print(\"Comment outliers (>95th percentile):\", df[df['comment_length'] > comment_outlier_threshold].shape[0])\n",
    "print(\"Code snippet outliers (>95th percentile):\", df[df['code_snippet_length'] > code_outlier_threshold].shape[0])"
   ]
  },
  {
   "cell_type": "code",
   "execution_count": 45,
   "id": "d7892f8a",
   "metadata": {},
   "outputs": [
    {
     "name": "stdout",
     "output_type": "stream",
     "text": [
      "Rows with potential leakage: 25\n",
      "                                                Comments   Class\n",
      "5451   /*Otherwise, we need to consider hidden-line r...  Useful\n",
      "5468   /*Otherwise, we need to consider hidden-line r...  Useful\n",
      "6188   /*--------------------------------------------...  Useful\n",
      "6190   /*--------------------------------------------...  Useful\n",
      "6191   /*--------------------------------------------...  Useful\n",
      "6192   /*--------------------------------------------...  Useful\n",
      "6631   /*--------------------------------------------...  Useful\n",
      "7400              /*Pointer to a useful terminal name.*/  Useful\n",
      "7742              /*Pointer to a useful terminal name.*/  Useful\n",
      "8131              /*Pointer to a useful terminal name.*/  Useful\n",
      "9388   /*This does the same thing as the above howeve...  Useful\n",
      "9395   /*Iterate through the usefully testable color ...  Useful\n",
      "9438   /*There are two basic forms of standard images...  Useful\n",
      "9439   /*Make a 'standard' palette.  Because there ar...  Useful\n",
      "9442   /*values' contains 256 ARGB values, but we onl...  Useful\n",
      "9447   /*To make this useful the tRNS color needs to ...  Useful\n",
      "9872   /*This is an array of standard gamma values (b...  Useful\n",
      "9894                         /*Make useful base images*/  Useful\n",
      "9940   /*IMPORTANT: only apply this to an array, appl...  Useful\n",
      "10185  /*So the message that results is \"<chunk> usin...  Useful\n",
      "10363  /*we could create a second info struct here (e...  Useful\n",
      "11357  /*One of these must be defined to allow us to ...  Useful\n",
      "11374  /*These #if tests have the effect of skipping ...  Useful\n",
      "11426  /*Extract multiple pixels with bit depths of 1...  Useful\n",
      "11427  /*Change the order of packed pixels to least s...  Useful\n"
     ]
    }
   ],
   "source": [
    "# Check for label-related words in comments\n",
    "leakage_words = ['useful', 'not useful', 'helpful', 'unhelpful']\n",
    "df['has_leakage'] = df['Comments'].str.contains('|'.join(leakage_words), case=False, na=False)\n",
    "print(\"Rows with potential leakage:\", df[df['has_leakage']].shape[0])\n",
    "print(df[df['has_leakage']][['Comments', 'Class']])"
   ]
  },
  {
   "cell_type": "code",
   "execution_count": null,
   "id": "71756e6d",
   "metadata": {},
   "outputs": [],
   "source": []
  }
 ],
 "metadata": {
  "kernelspec": {
   "display_name": "Python 3 (ipykernel)",
   "language": "python",
   "name": "python3"
  },
  "language_info": {
   "codemirror_mode": {
    "name": "ipython",
    "version": 3
   },
   "file_extension": ".py",
   "mimetype": "text/x-python",
   "name": "python",
   "nbconvert_exporter": "python",
   "pygments_lexer": "ipython3",
   "version": "3.10.9"
  }
 },
 "nbformat": 4,
 "nbformat_minor": 5
}
